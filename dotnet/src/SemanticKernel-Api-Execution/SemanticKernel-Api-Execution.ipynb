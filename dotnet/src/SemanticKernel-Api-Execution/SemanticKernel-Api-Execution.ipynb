{
    "cells": [
        {
            "cell_type": "markdown",
            "metadata": {},
            "source": [
                "# Twitter API Mock with Semantic Kernel\n",
                "\n",
                "This Jupyter notebook demonstrates the implementation of a mock Twitter API using Microsoft's Semantic Kernel. Key features include:\n",
                "\n",
                "- Simulated Twitter data and API endpoints\n",
                "- Natural language interface for API interactions\n",
                "- Integration with OpenAI's GPT model\n",
                "- Custom function invocation filtering and response formatting\n",
                "\n",
                "The notebook showcases how to:\n",
                "1. Set up the Semantic Kernel with OpenAI\n",
                "2. Implement mock Twitter functionalities (user management, tweeting, likes, etc.)\n",
                "3. Use natural language prompts to interact with the API\n",
                "4. Process and format API responses\n",
                "\n",
                "This project serves as a sandbox for exploring AI-driven API interactions without accessing the real Twitter API."
            ]
        },
        {
            "cell_type": "code",
            "execution_count": 1,
            "metadata": {
                "dotnet_interactive": {
                    "language": "csharp"
                },
                "polyglot_notebook": {
                    "kernelName": "csharp"
                }
            },
            "outputs": [
                {
                    "data": {
                        "text/html": [
                            "<div><div></div><div></div><div><strong>Installed Packages</strong><ul><li><span>Microsoft.SemanticKernel, 1.17.1</span></li></ul></div></div>"
                        ]
                    },
                    "metadata": {},
                    "output_type": "display_data"
                }
            ],
            "source": [
                "#r \"nuget:Microsoft.SemanticKernel\""
            ]
        },
        {
            "cell_type": "code",
            "execution_count": 2,
            "metadata": {
                "dotnet_interactive": {
                    "language": "csharp"
                },
                "polyglot_notebook": {
                    "kernelName": "csharp"
                }
            },
            "outputs": [],
            "source": [
                "#!import ../config/Settings.cs\n",
                "#!import ../Mock.cs\n",
                "#!import ../MockData.cs\n",
                "\n",
                "using Microsoft.SemanticKernel;\n",
                "using Kernel = Microsoft.SemanticKernel.Kernel;\n",
                "using Microsoft.SemanticKernel.Connectors.OpenAI;\n",
                "\n",
                "bool useAzureOpenAI = false;\n",
                "TwitterApiV2Mock twitterApiV2Mock = TwitterApiV2Mock.CreateInstance();"
            ]
        },
        {
            "cell_type": "markdown",
            "metadata": {},
            "source": [
                "# Preview Initial Twitter Data\n",
                "\n",
                "This workbook generates some initial sample data for our Twitter Mock API server."
            ]
        },
        {
            "cell_type": "code",
            "execution_count": 3,
            "metadata": {
                "dotnet_interactive": {
                    "language": "csharp"
                },
                "polyglot_notebook": {
                    "kernelName": "csharp"
                }
            },
            "outputs": [
                {
                    "data": {
                        "text/html": [
                            "<details open=\"open\" class=\"dni-treeview\"><summary><span class=\"dni-code-hint\"><code>{ Users = System.Collections.Generic.List`1[Submission#4+User], Tweets = System.Collections.Generic.List`1[Submission#4+Tweet] }</code></span></summary><div><table><thead><tr></tr></thead><tbody><tr><td>Users</td><td><table><thead><tr><th><i>index</i></th><th>value</th></tr></thead><tbody><tr><td>0</td><td><details class=\"dni-treeview\"><summary><span class=\"dni-code-hint\"><code>Submission#4+User</code></span></summary><div><table><thead><tr></tr></thead><tbody><tr><td>Id</td><td><div class=\"dni-plaintext\"><pre>1</pre></div></td></tr><tr><td>Name</td><td><div class=\"dni-plaintext\"><pre>John Doe</pre></div></td></tr><tr><td>Username</td><td><div class=\"dni-plaintext\"><pre>johndoe</pre></div></td></tr><tr><td>Description</td><td><div class=\"dni-plaintext\"><pre>Software developer | Coffee lover</pre></div></td></tr><tr><td>PublicMetrics_FollowerCount</td><td><div class=\"dni-plaintext\"><pre>1000</pre></div></td></tr><tr><td>PublicMetrics_FollowingCount</td><td><div class=\"dni-plaintext\"><pre>500</pre></div></td></tr><tr><td>PublicMetrics_TweetCount</td><td><div class=\"dni-plaintext\"><pre>5000</pre></div></td></tr><tr><td>CreatedAt</td><td><span>2019-08-11 13:08:36Z</span></td></tr></tbody></table></div></details></td></tr></tbody></table></td></tr><tr><td>Tweets</td><td><table><thead><tr><th><i>index</i></th><th>value</th></tr></thead><tbody><tr><td>0</td><td><details class=\"dni-treeview\"><summary><span class=\"dni-code-hint\"><code>Submission#4+Tweet</code></span></summary><div><table><thead><tr></tr></thead><tbody><tr><td>Id</td><td><div class=\"dni-plaintext\"><pre>9876543210</pre></div></td></tr><tr><td>Text</td><td><div class=\"dni-plaintext\"><pre>Hello, Twitter! #FirstTweet</pre></div></td></tr><tr><td>AuthorId</td><td><div class=\"dni-plaintext\"><pre>1234567890</pre></div></td></tr><tr><td>CreatedAt</td><td><span>2024-08-11 13:08:36Z</span></td></tr><tr><td>PublicMetrics_RetweetCount</td><td><div class=\"dni-plaintext\"><pre>5</pre></div></td></tr><tr><td>PublicMetrics_ReplyCount</td><td><div class=\"dni-plaintext\"><pre>2</pre></div></td></tr><tr><td>PublicMetrics_LikeCount</td><td><div class=\"dni-plaintext\"><pre>10</pre></div></td></tr><tr><td>PublicMetrics_QuoteCount</td><td><div class=\"dni-plaintext\"><pre>1</pre></div></td></tr><tr><td>ReferencedTweets</td><td><div class=\"dni-plaintext\"><pre>[  ]</pre></div></td></tr></tbody></table></div></details></td></tr></tbody></table></td></tr></tbody></table></div></details><style>\r\n",
                            ".dni-code-hint {\r\n",
                            "    font-style: italic;\r\n",
                            "    overflow: hidden;\r\n",
                            "    white-space: nowrap;\r\n",
                            "}\r\n",
                            ".dni-treeview {\r\n",
                            "    white-space: nowrap;\r\n",
                            "}\r\n",
                            ".dni-treeview td {\r\n",
                            "    vertical-align: top;\r\n",
                            "    text-align: start;\r\n",
                            "}\r\n",
                            "details.dni-treeview {\r\n",
                            "    padding-left: 1em;\r\n",
                            "}\r\n",
                            "table td {\r\n",
                            "    text-align: start;\r\n",
                            "}\r\n",
                            "table tr { \r\n",
                            "    vertical-align: top; \r\n",
                            "    margin: 0em 0px;\r\n",
                            "}\r\n",
                            "table tr td pre \r\n",
                            "{ \r\n",
                            "    vertical-align: top !important; \r\n",
                            "    margin: 0em 0px !important;\r\n",
                            "} \r\n",
                            "table th {\r\n",
                            "    text-align: start;\r\n",
                            "}\r\n",
                            "</style>"
                        ]
                    },
                    "metadata": {},
                    "output_type": "display_data"
                }
            ],
            "source": [
                "new {\n",
                "    TwitterApiV2Mock.Users,\n",
                "    TwitterApiV2Mock.Tweets,\n",
                "}"
            ]
        },
        {
            "cell_type": "markdown",
            "metadata": {},
            "source": [
                "# Initializing Semantic Kernel with Custom Invocation Filter\n",
                "\n",
                "This guide details how to initialize a Semantic Kernel instance and implement a custom invocation filter to control and modify responses from the Semantic Kernel.\n",
                "\n",
                "## Configuring Prompt Execution Settings in Semantic Kernel\n",
                "\n",
                "This guide provides an overview of how to configure prompt execution settings in the Semantic Kernel using the `OpenAIPromptExecutionSettings` class. Specifically, it focuses on the `ToolCallBehavior` property and its impact on how the Semantic Kernel handles tool (function) invocations.\n",
                "\n",
                "### `OpenAIPromptExecutionSettings` Class\n",
                "\n",
                "The `OpenAIPromptExecutionSettings` class is used to configure various aspects of prompt execution within the Semantic Kernel. It allows developers to customize how the kernel interacts with tools (functions) and how prompts are processed and executed.\n",
                "\n",
                "#### Key Property: `ToolCallBehavior`\n",
                "\n",
                "- **Property**: `ToolCallBehavior`\n",
                "- **Type**: `ToolCallBehavior` (Enum)\n",
                "- **Default Value**: Typically, `ToolCallBehavior.Default`, but can be customized as shown below.\n",
                "\n",
                "- - -\n",
                "\n",
                "## Custom Invocation Filter: `TwitterApiV2MockFunctionFilter`\n",
                "\n",
                "The `TwitterApiV2MockFunctionFilter` class implements the `IFunctionInvocationFilter` interface, allowing you to intercept and modify the output of functions invoked by the Semantic Kernel. This filter is designed to enforce a specific response format and generate documentation for HTTP responses.\n",
                "\n",
                "### Key Responsibilities of `TwitterApiV2MockFunctionFilter`:\n",
                "\n",
                "- **Intercept Function Invocations**: The `OnFunctionInvocationAsync` method is called whenever a function within the Semantic Kernel is invoked. The filter receives the `FunctionInvocationContext`, which contains details about the function and its execution context.\n",
                "\n",
                "- **Identify Target Function**: The filter attempts to locate the method corresponding to the invoked function within the `TwitterApiV2Mock` class using reflection. If the method is found, it retrieves the associated `RouteAttribute` to determine the endpoint route used in the HTTP response.\n",
                "\n",
                "- **Format the Response**: The filter serializes the result of the function invocation into a JSON string with indentation for readability. This serialized response is then embedded into a structured prompt designed to generate markdown documentation.\n",
                "\n",
                "- **Invoke the Semantic Kernel for Documentation**: The filter uses the initialized `IKernelBuilder` instance to invoke a prompt that produces markdown documentation based on the serialized HTTP response. The result from this invocation is formatted as markdown and returned as the final output.\n",
                "\n",
                "- **Final Output Adjustment**: The generated markdown documentation is set as the final result in the `FunctionInvocationContext`, effectively replacing the original output of the function invocation."
            ]
        },
        {
            "cell_type": "code",
            "execution_count": 7,
            "metadata": {
                "dotnet_interactive": {
                    "language": "csharp"
                },
                "polyglot_notebook": {
                    "kernelName": "csharp"
                }
            },
            "outputs": [],
            "source": [
                "var executionSettings = new OpenAIPromptExecutionSettings(){\n",
                "    ToolCallBehavior = ToolCallBehavior.AutoInvokeKernelFunctions\n",
                "};\n",
                "\n",
                "var builder = Kernel.CreateBuilder();\n",
                "\n",
                "builder\n",
                "    .AddOpenAIChatCompletion(\n",
                "        \"gpt-4\",\n",
                "        \"sk-proj-\"\n",
                "    )\n",
                "    .AddOpenAITextGeneration(\n",
                "        \"gpt-4\",\n",
                "        \"sk-proj-\"\n",
                "    );\n",
                "\n",
                "builder.Plugins.AddFromObject(TwitterApiV2Mock.CreateInstance());\n",
                "\n",
                "\n",
                "Kernel kernel = builder.Build();\n",
                "\n",
                "kernel.FunctionInvocationFilters.Add(new TwitterApiV2MockFunctionFilter(builder));"
            ]
        },
        {
            "cell_type": "markdown",
            "metadata": {},
            "source": [
                "# Natural Language Prompts for Interacting with the Twitter API\n",
                "\n",
                "In the following Jupyter cells, we will demonstrate how to interact with the Twitter API using natural language prompts through the Semantic Kernel. Each example showcases different ways to retrieve user information by simply asking the kernel in plain language. \n",
                "\n",
                "### Key Demonstrations:\n",
                "\n",
                "- **Natural Language Interaction**: These examples highlight how you can use intuitive, conversational prompts to fetch data from the Twitter API, such as user profiles and details.\n",
                "- **Flexibility in Querying**: The prompts illustrate the flexibility of the Semantic Kernel in understanding and processing various phrasings of a request to achieve the same outcome.\n",
                "- **Leveraging Kernel Functions**: The kernel intelligently interprets the prompts and invokes the appropriate API functions, demonstrating the power of integrating natural language processing with API calls."
            ]
        },
        {
            "cell_type": "code",
            "execution_count": 8,
            "metadata": {
                "dotnet_interactive": {
                    "language": "csharp"
                },
                "polyglot_notebook": {
                    "kernelName": "csharp"
                }
            },
            "outputs": [
                {
                    "name": "stdout",
                    "output_type": "stream",
                    "text": [
                        "GetUserById: \n",
                        "=================\n",
                        "The user with ID 1 is\n",
                        "\n",
                        "- Name: John Doe\n",
                        "- Username: johndoe\n",
                        "- Description: Software developer | Coffee lover\n",
                        "- Follower Count: 1000\n",
                        "- Following Count: 500\n",
                        "- Tweet Count: 5000\n",
                        "- Joined: August 11, 2019\n",
                        "\n",
                        "- - - - - - - - - \n",
                        "\n",
                        "GetUserDetails: \n",
                        "=================\n",
                        "Here are the details of the user with ID 1:\n",
                        "\n",
                        "- Name: John Doe\n",
                        "- Username: @johndoe\n",
                        "- Description: Software developer | Coffee lover\n",
                        "- Number of followers: 1000\n",
                        "- Number of following: 500\n",
                        "- Number of tweets: 5000\n",
                        "- Account created at: 2019-08-11 13:08:36.271441-05:00\n",
                        "\n",
                        "\n",
                        "- - - - - - - - - \n",
                        "\n",
                        "GetUserInfo: \n",
                        "=================\n",
                        "The user with ID 1 is named \"John Doe\". He goes by the username 'johndoe'. His description reads \"Software developer | Coffee lover\". He has a followers count of 1000 and is following 500 people. He has made 5000 tweets since the creation of his account on August 11, 2019, at 1:08 pm.\n"
                    ]
                }
            ],
            "source": [
                "// GetUser\n",
                "var getUserById = await kernel.InvokePromptAsync(\"Find the user profile for ID 1\", new (executionSettings));\n",
                "var getUserDetails = await kernel.InvokePromptAsync(\"Show me the details of the user with identifier 1\", new (executionSettings));\n",
                "var getUserInfo = await kernel.InvokePromptAsync(\"What information do you have on the user with ID 1?\", new (executionSettings));\n",
                "\n",
                "var response = $\"\"\"\n",
                "    GetUserById: \n",
                "    =================\n",
                "    {getUserById.GetValue<string>()}\n",
                "\n",
                "    - - - - - - - - - \n",
                "\n",
                "    GetUserDetails: \n",
                "    =================\n",
                "    {getUserDetails.GetValue<string>()}\n",
                "\n",
                "    - - - - - - - - - \n",
                "    \n",
                "    GetUserInfo: \n",
                "    =================\n",
                "    {getUserInfo.GetValue<string>()}\n",
                "    \"\"\";\n",
                "\n",
                "Console.Write(response);"
            ]
        },
        {
            "cell_type": "code",
            "execution_count": 9,
            "metadata": {
                "dotnet_interactive": {
                    "language": "csharp"
                },
                "polyglot_notebook": {
                    "kernelName": "csharp"
                }
            },
            "outputs": [
                {
                    "name": "stdout",
                    "output_type": "stream",
                    "text": [
                        "GetUserByHandle: \n",
                        "=================\n",
                        "Here is the profile information for the Twitter user @johndoe:\n",
                        "\n",
                        "- Full Name: John Doe\n",
                        "- Username: johndoe\n",
                        "- Description: Software developer | Coffee lover\n",
                        "- Number of followers: 1000\n",
                        "- Number of following: 500\n",
                        "- Tweet count: 5000\n",
                        "- Account created at: 2019-08-11T13:08:36.271441-05:00\n",
                        "\n",
                        "- - - - - - - - - \n",
                        "\n",
                        "GetUserByName: \n",
                        "=================\n",
                        "The user @johndoe has the following details:\n",
                        "\n",
                        "- Full Name: John Doe\n",
                        "- Username: @johndoe\n",
                        "- Description: Just a regular guy.\n",
                        "- Number of followers: 500\n",
                        "- Number of following: 350\n",
                        "- Number of tweets: 1200\n",
                        "- Account created at: 2020-05-01T00:00:00Z\n",
                        "\n",
                        "- - - - - - - - - \n",
                        "\n",
                        "FindUserAccount: \n",
                        "=================\n",
                        "The profile details for the user \"johndoe\" are as follows:\n",
                        "\n",
                        "- Id: 1\n",
                        "- Name: John Doe\n",
                        "- Username: johndoe\n",
                        "- Description: Software developer | Coffee lover\n",
                        "- Number of Followers: 1000\n",
                        "- Number of Followings: 500\n",
                        "- Total tweet count: 5000\n",
                        "- Account created at: 2019-08-11T13:08:36.271441-05:00"
                    ]
                }
            ],
            "source": [
                "// GetUserByUsername\n",
                "var getUserByHandle = await kernel.InvokePromptAsync(\"Look up the profile of @johndoe on Twitter\", new (executionSettings));\n",
                "var getUserByName = await kernel.InvokePromptAsync(\"What can you tell me about the Twitter user @johndoe?\", new (executionSettings));\n",
                "var findUserAccount = await kernel.InvokePromptAsync(\"Find the account details for the username johndoe\", new (executionSettings));\n",
                "\n",
                "var response = $\"\"\"\n",
                "    GetUserByHandle: \n",
                "    =================\n",
                "    {getUserByHandle.GetValue<string>()}\n",
                "\n",
                "    - - - - - - - - - \n",
                "\n",
                "    GetUserByName: \n",
                "    =================\n",
                "    {getUserByName.GetValue<string>()}\n",
                "\n",
                "    - - - - - - - - - \n",
                "    \n",
                "    FindUserAccount: \n",
                "    =================\n",
                "    {findUserAccount.GetValue<string>()}\n",
                "    \"\"\";\n",
                "\n",
                "Console.Write(response);"
            ]
        },
        {
            "cell_type": "code",
            "execution_count": 10,
            "metadata": {
                "dotnet_interactive": {
                    "language": "csharp"
                },
                "polyglot_notebook": {
                    "kernelName": "csharp"
                }
            },
            "outputs": [
                {
                    "data": {
                        "text/html": [
                            "<details open=\"open\" class=\"dni-treeview\"><summary><span class=\"dni-code-hint\"><code>{ setupTwitterAccount = A new Twitter account has been created. Here are the details:\\n\\n- Name: Jane Smith\\n- Username: janesmith\\n- Description: Tech enthusiast | Blogger\\n- Followers: 0\\n- Following: 0\\n- Tweets: 0\\n- Created at: 2024-08-11T13:11:49.315712-05:00, registerTwitterUser = The user &#39;A...</code></span></summary><div><table><thead><tr></tr></thead><tbody><tr><td>setupTwitterAccount</td><td><div class=\"dni-plaintext\"><pre>A new Twitter account has been created. Here are the details:\n",
                            "\n",
                            "- Name: Jane Smith\n",
                            "- Username: janesmith\n",
                            "- Description: Tech enthusiast | Blogger\n",
                            "- Followers: 0\n",
                            "- Following: 0\n",
                            "- Tweets: 0\n",
                            "- Created at: 2024-08-11T13:11:49.315712-05:00</pre></div></td></tr><tr><td>registerTwitterUser</td><td><div class=\"dni-plaintext\"><pre>The user &#39;Alice Johnson&#39; with the username &#39;alicej&#39; has been successfully registered on Twitter with the profile description &#39;Data scientist | Cat lover&#39;. The account was created on 11th August 2024 at 13:12:06. As it&#39;s a new account, follower count, following count, and tweet count are currently all at 0.</pre></div></td></tr><tr><td>createTwitterProfile</td><td><div class=\"dni-plaintext\"><pre>The Twitter profile with the Name &#39;Bob Wilson&#39;, Username &#39;bobw&#39;, Description &#39;Entrepreneur | Tech enthusiast&#39; has been successfully created. The ID assigned to this user is `4`.</pre></div></td></tr></tbody></table></div></details><style>\r\n",
                            ".dni-code-hint {\r\n",
                            "    font-style: italic;\r\n",
                            "    overflow: hidden;\r\n",
                            "    white-space: nowrap;\r\n",
                            "}\r\n",
                            ".dni-treeview {\r\n",
                            "    white-space: nowrap;\r\n",
                            "}\r\n",
                            ".dni-treeview td {\r\n",
                            "    vertical-align: top;\r\n",
                            "    text-align: start;\r\n",
                            "}\r\n",
                            "details.dni-treeview {\r\n",
                            "    padding-left: 1em;\r\n",
                            "}\r\n",
                            "table td {\r\n",
                            "    text-align: start;\r\n",
                            "}\r\n",
                            "table tr { \r\n",
                            "    vertical-align: top; \r\n",
                            "    margin: 0em 0px;\r\n",
                            "}\r\n",
                            "table tr td pre \r\n",
                            "{ \r\n",
                            "    vertical-align: top !important; \r\n",
                            "    margin: 0em 0px !important;\r\n",
                            "} \r\n",
                            "table th {\r\n",
                            "    text-align: start;\r\n",
                            "}\r\n",
                            "</style>"
                        ]
                    },
                    "metadata": {},
                    "output_type": "display_data"
                }
            ],
            "source": [
                "// CreateUser\n",
                "var setupTwitterAccount = await kernel.InvokePromptAsync(\"Set up a new Twitter account with the following details: Name 'Jane Smith', Username 'janesmith', Description 'Tech enthusiast | Blogger'\", new (executionSettings));\n",
                "var registerTwitterUser = await kernel.InvokePromptAsync(\"Register a new user on Twitter using this information: Name 'Alice Johnson', Username 'alicej', Description 'Data scientist | Cat lover'\", new (executionSettings));\n",
                "var createTwitterProfile = await kernel.InvokePromptAsync(\"Create a Twitter profile with these attributes: Name 'Bob Wilson', Username 'bobw', Description 'Entrepreneur | Tech enthusiast'\", new (executionSettings));\n",
                "\n",
                "new {\n",
                "    setupTwitterAccount = setupTwitterAccount.GetValue<string>(),\n",
                "    registerTwitterUser = registerTwitterUser.GetValue<string>(),\n",
                "    createTwitterProfile = createTwitterProfile.GetValue<string>()\n",
                "}"
            ]
        },
        {
            "cell_type": "code",
            "execution_count": 11,
            "metadata": {
                "dotnet_interactive": {
                    "language": "csharp"
                },
                "polyglot_notebook": {
                    "kernelName": "csharp"
                }
            },
            "outputs": [
                {
                    "data": {
                        "text/html": [
                            "<details open=\"open\" class=\"dni-treeview\"><summary><span class=\"dni-code-hint\"><code>{ updateUserProfile = The user profile for User ID 1 has been successfully updated. The new profile description is &quot;Senior Software Engineer | Coffee addict&quot;. Here are the complete details:\\n\\n```json\\n{\\n  &quot;Id&quot;: 1,\\n  &quot;Name&quot;: &quot;John Doe&quot;,\\n  &quot;Username&quot;: &quot;johndoe&quot;,\\n  &quot;Description&quot;: &quot;Senior Software ...</code></span></summary><div><table><thead><tr></tr></thead><tbody><tr><td>updateUserProfile</td><td><div class=\"dni-plaintext\"><pre>The user profile for User ID 1 has been successfully updated. The new profile description is &quot;Senior Software Engineer | Coffee addict&quot;. Here are the complete details:\n",
                            "\n",
                            "```json\n",
                            "{\n",
                            "  &quot;Id&quot;: 1,\n",
                            "  &quot;Name&quot;: &quot;John Doe&quot;,\n",
                            "  &quot;Username&quot;: &quot;johndoe&quot;,\n",
                            "  &quot;Description&quot;: &quot;Senior Software Engineer | Coffee addict&quot;,\n",
                            "  &quot;PublicMetrics_FollowerCount&quot;: 1000,\n",
                            "  &quot;PublicMetrics_FollowingCount&quot;: 500,\n",
                            "  &quot;PublicMetrics_TweetCount&quot;: 5000,\n",
                            "  &quot;CreatedAt&quot;: &quot;2019-08-11T13:08:36.271441-05:00&quot;\n",
                            "}\n",
                            "```</pre></div></td></tr><tr><td>modifyUserAccount</td><td><div class=\"dni-plaintext\"><pre>The user&#39;s name has been successfully updated to &quot;John Doe Jr.&quot;.</pre></div></td></tr><tr><td>editUserProfile</td><td><div class=\"dni-plaintext\"><pre>The user profile with ID 1 has been successfully updated. The new username is &#39;johndoejr&#39;.</pre></div></td></tr></tbody></table></div></details><style>\r\n",
                            ".dni-code-hint {\r\n",
                            "    font-style: italic;\r\n",
                            "    overflow: hidden;\r\n",
                            "    white-space: nowrap;\r\n",
                            "}\r\n",
                            ".dni-treeview {\r\n",
                            "    white-space: nowrap;\r\n",
                            "}\r\n",
                            ".dni-treeview td {\r\n",
                            "    vertical-align: top;\r\n",
                            "    text-align: start;\r\n",
                            "}\r\n",
                            "details.dni-treeview {\r\n",
                            "    padding-left: 1em;\r\n",
                            "}\r\n",
                            "table td {\r\n",
                            "    text-align: start;\r\n",
                            "}\r\n",
                            "table tr { \r\n",
                            "    vertical-align: top; \r\n",
                            "    margin: 0em 0px;\r\n",
                            "}\r\n",
                            "table tr td pre \r\n",
                            "{ \r\n",
                            "    vertical-align: top !important; \r\n",
                            "    margin: 0em 0px !important;\r\n",
                            "} \r\n",
                            "table th {\r\n",
                            "    text-align: start;\r\n",
                            "}\r\n",
                            "</style>"
                        ]
                    },
                    "metadata": {},
                    "output_type": "display_data"
                }
            ],
            "source": [
                "// UpdateUser\n",
                "var updateUserProfile = await kernel.InvokePromptAsync(\"Update the profile of user 1 with this new information: Description 'Senior Software Engineer | Coffee addict'\", new (executionSettings));\n",
                "var modifyUserAccount = await kernel.InvokePromptAsync(\"Modify the account details for user 1 to reflect these changes: Name 'John Doe Jr.'\", new (executionSettings));\n",
                "var editUserProfile = await kernel.InvokePromptAsync(\"Edit the user profile with ID 1, changing the following: Username 'johndoejr'\", new (executionSettings));\n",
                "\n",
                "new {\n",
                "    updateUserProfile = updateUserProfile.GetValue<string>(),\n",
                "    modifyUserAccount = modifyUserAccount.GetValue<string>(),\n",
                "    editUserProfile = editUserProfile.GetValue<string>()\n",
                "}"
            ]
        },
        {
            "cell_type": "code",
            "execution_count": 12,
            "metadata": {
                "dotnet_interactive": {
                    "language": "csharp"
                },
                "polyglot_notebook": {
                    "kernelName": "csharp"
                }
            },
            "outputs": [
                {
                    "data": {
                        "text/html": [
                            "<details open=\"open\" class=\"dni-treeview\"><summary><span class=\"dni-code-hint\"><code>{ showTweet = Here&#39;s the tweet information for ID 9876543210:\\n\\n- Text: Hello, Twitter! #FirstTweet\\n- Author ID: 1234567890\\n- Created At: 2024-08-11T13:08:36.271538-05:00\\n- Retweet Count: 5\\n- Reply Count: 2\\n- Like Count: 10\\n- Quote Count: 1\\n- Referenced Tweets: None, retrieveTweet = The requ...</code></span></summary><div><table><thead><tr></tr></thead><tbody><tr><td>showTweet</td><td><div class=\"dni-plaintext\"><pre>Here&#39;s the tweet information for ID 9876543210:\n",
                            "\n",
                            "- Text: Hello, Twitter! #FirstTweet\n",
                            "- Author ID: 1234567890\n",
                            "- Created At: 2024-08-11T13:08:36.271538-05:00\n",
                            "- Retweet Count: 5\n",
                            "- Reply Count: 2\n",
                            "- Like Count: 10\n",
                            "- Quote Count: 1\n",
                            "- Referenced Tweets: None</pre></div></td></tr><tr><td>retrieveTweet</td><td><div class=\"dni-plaintext\"><pre>The requested Tweet with ID 9876543210 has the following content:\n",
                            "\n",
                            "- Text: &quot;Hello, Twitter! #FirstTweet&quot;\n",
                            "- AuthorId: 1234567890\n",
                            "- Created At: 2024-08-11T13:08:36.271538-05:00\n",
                            "- Metrics: \n",
                            "  - Retweet Count: 5\n",
                            "  - Reply Count: 2\n",
                            "  - Like Count: 10\n",
                            "  - Quote Count: 1\n",
                            "- It does not reference any other tweets.</pre></div></td></tr><tr><td>getTweetContent</td><td><div class=\"dni-plaintext\"><pre>The tweet with ID 9876543210 says:\n",
                            "\n",
                            "- Text: \n",
                            "- It was created by user with ID: \n",
                            "- Created At: \n",
                            "- Number of Retweets: \n",
                            "- Number of Replies: \n",
                            "- Number of Likes: \n",
                            "- Number of Quotes: \n",
                            "- Referenced Tweets:</pre></div></td></tr></tbody></table></div></details><style>\r\n",
                            ".dni-code-hint {\r\n",
                            "    font-style: italic;\r\n",
                            "    overflow: hidden;\r\n",
                            "    white-space: nowrap;\r\n",
                            "}\r\n",
                            ".dni-treeview {\r\n",
                            "    white-space: nowrap;\r\n",
                            "}\r\n",
                            ".dni-treeview td {\r\n",
                            "    vertical-align: top;\r\n",
                            "    text-align: start;\r\n",
                            "}\r\n",
                            "details.dni-treeview {\r\n",
                            "    padding-left: 1em;\r\n",
                            "}\r\n",
                            "table td {\r\n",
                            "    text-align: start;\r\n",
                            "}\r\n",
                            "table tr { \r\n",
                            "    vertical-align: top; \r\n",
                            "    margin: 0em 0px;\r\n",
                            "}\r\n",
                            "table tr td pre \r\n",
                            "{ \r\n",
                            "    vertical-align: top !important; \r\n",
                            "    margin: 0em 0px !important;\r\n",
                            "} \r\n",
                            "table th {\r\n",
                            "    text-align: start;\r\n",
                            "}\r\n",
                            "</style>"
                        ]
                    },
                    "metadata": {},
                    "output_type": "display_data"
                }
            ],
            "source": [
                "// GetTweet\n",
                "var showTweet = await kernel.InvokePromptAsync(\"Show me the tweet with ID 9876543210\", new (executionSettings));\n",
                "var retrieveTweet = await kernel.InvokePromptAsync(\"Retrieve the content of the tweet identified by 9876543210\", new (executionSettings));\n",
                "var getTweetContent = await kernel.InvokePromptAsync(\"What does the tweet with ID 9876543210 say?\", new (executionSettings));\n",
                "\n",
                "new {\n",
                "    showTweet = showTweet.GetValue<string>(),\n",
                "    retrieveTweet = retrieveTweet.GetValue<string>(),\n",
                "    getTweetContent = getTweetContent.GetValue<string>()\n",
                "}"
            ]
        },
        {
            "cell_type": "code",
            "execution_count": 13,
            "metadata": {
                "dotnet_interactive": {
                    "language": "csharp"
                },
                "polyglot_notebook": {
                    "kernelName": "csharp"
                }
            },
            "outputs": [
                {
                    "data": {
                        "text/html": [
                            "<details open=\"open\" class=\"dni-treeview\"><summary><span class=\"dni-code-hint\"><code>{ postNewTweet = Your tweet saying &#39;Just learned about semantic kernels! #AI #Programming&#39; has been posted successfully.\\n\\nHere are the details of your tweet:\\n- **Tweet ID:** a58dd071-15d7-4bbb-9606-b19fd9596551\\n- **Author ID:** 1\\n- **Posted at:** 2024-08-11T13:14:57.549271-05:00\\n- **Like Count...</code></span></summary><div><table><thead><tr></tr></thead><tbody><tr><td>postNewTweet</td><td><div class=\"dni-plaintext\"><pre>Your tweet saying &#39;Just learned about semantic kernels! #AI #Programming&#39; has been posted successfully.\n",
                            "\n",
                            "Here are the details of your tweet:\n",
                            "- **Tweet ID:** a58dd071-15d7-4bbb-9606-b19fd9596551\n",
                            "- **Author ID:** 1\n",
                            "- **Posted at:** 2024-08-11T13:14:57.549271-05:00\n",
                            "- **Like Count:** 0\n",
                            "- **Reply Count:** 0\n",
                            "- **Retweet Count:** 0\n",
                            "- **Quote Count:** 0\n",
                            "- **Referenced Tweets:** None\n",
                            "\n",
                            "Keep an eye on your notifications for any likes, comments, or retweets!</pre></div></td></tr><tr><td>sendTweet</td><td><div class=\"dni-plaintext\"><pre>The tweet was successfully posted.\n",
                            "\n",
                            "Tweet Information:\n",
                            "\n",
                            "- **Id**: 123456\n",
                            "- **Text**: &quot;Excited to start my new project! #CodingLife&quot;\n",
                            "- **AuthorId**: 1\n",
                            "- **CreatedAt**: 2021-10-01T10:20:30Z\n",
                            "- **PublicMetrics_RetweetCount**: 0\n",
                            "- **PublicMetrics_ReplyCount**: 0\n",
                            "- **PublicMetrics_LikeCount**: 0\n",
                            "- **PublicMetrics_QuoteCount**: 0\n",
                            "- **ReferencedTweets**: []\n",
                            "\n",
                            "You can check your posted tweet [here](http://twitter.com/home?status=Excited%20to%20start%20my%20new%20project!%20#CodingLife).</pre></div></td></tr><tr><td>createTwitterPost</td><td><div class=\"dni-plaintext\"><pre>The Twitter post with the text &quot;Beautiful sunset tonight! #NatureLover&quot; has been successfully created.\n",
                            "\n",
                            "Here are the details of the post:\n",
                            "- ID: b8c61ad8-7631-49a7-9f1d-214a50dea66f\n",
                            "- Author ID: 1\n",
                            "- Created At: 2024-08-11T13:15:44.119193-05:00\n",
                            "- Number of Times Retweeted: 0\n",
                            "- Number of Times Replied to: 0\n",
                            "- Number of Times Liked: 0\n",
                            "- Number of Times Quoted: 0\n",
                            "- Referenced Tweets: None at the moment</pre></div></td></tr></tbody></table></div></details><style>\r\n",
                            ".dni-code-hint {\r\n",
                            "    font-style: italic;\r\n",
                            "    overflow: hidden;\r\n",
                            "    white-space: nowrap;\r\n",
                            "}\r\n",
                            ".dni-treeview {\r\n",
                            "    white-space: nowrap;\r\n",
                            "}\r\n",
                            ".dni-treeview td {\r\n",
                            "    vertical-align: top;\r\n",
                            "    text-align: start;\r\n",
                            "}\r\n",
                            "details.dni-treeview {\r\n",
                            "    padding-left: 1em;\r\n",
                            "}\r\n",
                            "table td {\r\n",
                            "    text-align: start;\r\n",
                            "}\r\n",
                            "table tr { \r\n",
                            "    vertical-align: top; \r\n",
                            "    margin: 0em 0px;\r\n",
                            "}\r\n",
                            "table tr td pre \r\n",
                            "{ \r\n",
                            "    vertical-align: top !important; \r\n",
                            "    margin: 0em 0px !important;\r\n",
                            "} \r\n",
                            "table th {\r\n",
                            "    text-align: start;\r\n",
                            "}\r\n",
                            "</style>"
                        ]
                    },
                    "metadata": {},
                    "output_type": "display_data"
                }
            ],
            "source": [
                "// CreateTweet\n",
                "var postNewTweet = await kernel.InvokePromptAsync(\"Post a new tweet saying: 'Just learned about semantic kernels! #AI #Programming'\", new (executionSettings));\n",
                "var sendTweet = await kernel.InvokePromptAsync(\"Send out a tweet with the following message: 'Excited to start my new project! #CodingLife'\", new (executionSettings));\n",
                "var createTwitterPost = await kernel.InvokePromptAsync(\"Create a Twitter post that reads: 'Beautiful sunset tonight! #NatureLover'\", new (executionSettings));\n",
                "\n",
                "new {\n",
                "    postNewTweet = postNewTweet.GetValue<string>(),\n",
                "    sendTweet = sendTweet.GetValue<string>(),\n",
                "    createTwitterPost = createTwitterPost.GetValue<string>()\n",
                "}"
            ]
        },
        {
            "cell_type": "code",
            "execution_count": 14,
            "metadata": {
                "dotnet_interactive": {
                    "language": "csharp"
                },
                "polyglot_notebook": {
                    "kernelName": "csharp"
                }
            },
            "outputs": [
                {
                    "data": {
                        "text/html": [
                            "<details open=\"open\" class=\"dni-treeview\"><summary><span class=\"dni-code-hint\"><code>{ removeTweet = The tweet with ID 9876543210 has been successfully removed., deleteTweet = The tweet with the ID 9876543210 does not exist or was already deleted., eraseTweet = I&#39;m sorry, but I couldn&#39;t find a tweet with the ID 9876543210. Please make sure the provided ID is correct. }</code></span></summary><div><table><thead><tr></tr></thead><tbody><tr><td>removeTweet</td><td><div class=\"dni-plaintext\"><pre>The tweet with ID 9876543210 has been successfully removed.</pre></div></td></tr><tr><td>deleteTweet</td><td><div class=\"dni-plaintext\"><pre>The tweet with the ID 9876543210 does not exist or was already deleted.</pre></div></td></tr><tr><td>eraseTweet</td><td><div class=\"dni-plaintext\"><pre>I&#39;m sorry, but I couldn&#39;t find a tweet with the ID 9876543210. Please make sure the provided ID is correct.</pre></div></td></tr></tbody></table></div></details><style>\r\n",
                            ".dni-code-hint {\r\n",
                            "    font-style: italic;\r\n",
                            "    overflow: hidden;\r\n",
                            "    white-space: nowrap;\r\n",
                            "}\r\n",
                            ".dni-treeview {\r\n",
                            "    white-space: nowrap;\r\n",
                            "}\r\n",
                            ".dni-treeview td {\r\n",
                            "    vertical-align: top;\r\n",
                            "    text-align: start;\r\n",
                            "}\r\n",
                            "details.dni-treeview {\r\n",
                            "    padding-left: 1em;\r\n",
                            "}\r\n",
                            "table td {\r\n",
                            "    text-align: start;\r\n",
                            "}\r\n",
                            "table tr { \r\n",
                            "    vertical-align: top; \r\n",
                            "    margin: 0em 0px;\r\n",
                            "}\r\n",
                            "table tr td pre \r\n",
                            "{ \r\n",
                            "    vertical-align: top !important; \r\n",
                            "    margin: 0em 0px !important;\r\n",
                            "} \r\n",
                            "table th {\r\n",
                            "    text-align: start;\r\n",
                            "}\r\n",
                            "</style>"
                        ]
                    },
                    "metadata": {},
                    "output_type": "display_data"
                }
            ],
            "source": [
                "// DeleteTweet\n",
                "var removeTweet = await kernel.InvokePromptAsync(\"Remove the tweet with ID 9876543210\", new (executionSettings));\n",
                "var deleteTweet = await kernel.InvokePromptAsync(\"Delete the Twitter post identified by 9876543210\", new (executionSettings));\n",
                "var eraseTweet = await kernel.InvokePromptAsync(\"Erase the tweet with the identifier 9876543210\", new (executionSettings));\n",
                "\n",
                "new {\n",
                "    removeTweet = removeTweet.GetValue<string>(),\n",
                "    deleteTweet = deleteTweet.GetValue<string>(),\n",
                "    eraseTweet = eraseTweet.GetValue<string>()\n",
                "}"
            ]
        },
        {
            "cell_type": "code",
            "execution_count": 15,
            "metadata": {
                "dotnet_interactive": {
                    "language": "csharp"
                },
                "polyglot_notebook": {
                    "kernelName": "csharp"
                }
            },
            "outputs": [
                {
                    "data": {
                        "text/html": [
                            "<details open=\"open\" class=\"dni-treeview\"><summary><span class=\"dni-code-hint\"><code>{ showUserTweets = Here are the tweets written by the user with ID 1:\\n\\n1. Tweet ID: a58dd071-15d7-4bbb-9606-b19fd9596551\\n   Text: &quot;Just learned about semantic kernels! #AI #Programming&quot;\\n   Created At: 2024-08-11T13:14:57.549271-05:00\\n   Metrics: Retweets - 0, Replies - 0, Likes - 0, Quotes - 0\\...</code></span></summary><div><table><thead><tr></tr></thead><tbody><tr><td>showUserTweets</td><td><div class=\"dni-plaintext\"><pre>Here are the tweets written by the user with ID 1:\n",
                            "\n",
                            "1. Tweet ID: a58dd071-15d7-4bbb-9606-b19fd9596551\n",
                            "   Text: &quot;Just learned about semantic kernels! #AI #Programming&quot;\n",
                            "   Created At: 2024-08-11T13:14:57.549271-05:00\n",
                            "   Metrics: Retweets - 0, Replies - 0, Likes - 0, Quotes - 0\n",
                            "\n",
                            "2. Tweet ID: 6b5bb076-a5a4-4f37-8bb9-d5f1d9974600\n",
                            "   Text: &quot;Excited to start my new project! #CodingLife&quot;\n",
                            "   Created At: 2024-08-11T13:15:22.554917-05:00\n",
                            "   Metrics: Retweets - 0, Replies - 0, Likes - 0, Quotes - 0\n",
                            "\n",
                            "3. Tweet ID: b8c61ad8-7631-49a7-9f1d-214a50dea66f\n",
                            "   Text: &quot;Beautiful sunset tonight! #NatureLover&quot;\n",
                            "   Created At: 2024-08-11T13:15:44.119193-05:00\n",
                            "   Metrics: Retweets - 0, Replies - 0, Likes - 0, Quotes - 0</pre></div></td></tr><tr><td>getUserRecentTweets</td><td><div class=\"dni-plaintext\"><pre>The user with ID 1 has recently tweeted:\n",
                            "\n",
                            "1. Tweet ID: a58dd071-15d7-4bbb-9606-b19fd9596551  \n",
                            "   Text: &quot;Just learned about semantic kernels! #AI #Programming&quot;  \n",
                            "   Created At: 2024-08-11T13:14:57.549271-05:00\n",
                            "\n",
                            "2. Tweet ID: 6b5bb076-a5a4-4f37-8bb9-d5f1d9974600  \n",
                            "   Text: &quot;Excited to start my new project! #CodingLife&quot;  \n",
                            "   Created At: 2024-08-11T13:15:22.554917-05:00\n",
                            "\n",
                            "3. Tweet ID: b8c61ad8-7631-49a7-9f1d-214a50dea66f  \n",
                            "   Text: &quot;Beautiful sunset tonight! #NatureLover&quot;  \n",
                            "   Created At: 2024-08-11T13:15:44.119193-05:00\n",
                            "\n",
                            "Note: None of these tweets have been liked, retweeted, quoted or replied to yet.</pre></div></td></tr><tr><td>retrieveUserFeed</td><td><div class=\"dni-plaintext\"><pre>User 1 has made the following tweets:\n",
                            "\n",
                            "1. Id: a58dd071-15d7-4bbb-9606-b19fd9596551\n",
                            "   Text: &quot;Just learned about semantic kernels! #AI #Programming&quot;\n",
                            "   CreatedAt: 2024-08-11T13:14:57.549271-05:00\n",
                            "\n",
                            "2. Id: 6b5bb076-a5a4-4f37-8bb9-d5f1d9974600\n",
                            "   Text: &quot;Excited to start my new project! #CodingLife&quot;\n",
                            "   CreatedAt: 2024-08-11T13:15:22.554917-05:00\n",
                            "\n",
                            "3. Id: b8c61ad8-7631-49a7-9f1d-214a50dea66f\n",
                            "   Text: &quot;Beautiful sunset tonight! #NatureLover&quot;\n",
                            "   CreatedAt: 2024-08-11T13:15:44.119193-05:00\n",
                            "\n",
                            "All tweets have 0 retweets, 0 replies, 0 likes, and 0 quotes.</pre></div></td></tr></tbody></table></div></details><style>\r\n",
                            ".dni-code-hint {\r\n",
                            "    font-style: italic;\r\n",
                            "    overflow: hidden;\r\n",
                            "    white-space: nowrap;\r\n",
                            "}\r\n",
                            ".dni-treeview {\r\n",
                            "    white-space: nowrap;\r\n",
                            "}\r\n",
                            ".dni-treeview td {\r\n",
                            "    vertical-align: top;\r\n",
                            "    text-align: start;\r\n",
                            "}\r\n",
                            "details.dni-treeview {\r\n",
                            "    padding-left: 1em;\r\n",
                            "}\r\n",
                            "table td {\r\n",
                            "    text-align: start;\r\n",
                            "}\r\n",
                            "table tr { \r\n",
                            "    vertical-align: top; \r\n",
                            "    margin: 0em 0px;\r\n",
                            "}\r\n",
                            "table tr td pre \r\n",
                            "{ \r\n",
                            "    vertical-align: top !important; \r\n",
                            "    margin: 0em 0px !important;\r\n",
                            "} \r\n",
                            "table th {\r\n",
                            "    text-align: start;\r\n",
                            "}\r\n",
                            "</style>"
                        ]
                    },
                    "metadata": {},
                    "output_type": "display_data"
                }
            ],
            "source": [
                "// GetUserTweets\n",
                "var showUserTweets = await kernel.InvokePromptAsync(\"Show me all tweets by the user with ID 1\", new (executionSettings));\n",
                "var getUserRecentTweets = await kernel.InvokePromptAsync(\"What has the user with ID 1 tweeted recently?\", new (executionSettings));\n",
                "var retrieveUserFeed = await kernel.InvokePromptAsync(\"Retrieve the Twitter feed of user 1\", new (executionSettings));\n",
                "\n",
                "new {\n",
                "    showUserTweets = showUserTweets.GetValue<string>(),\n",
                "    getUserRecentTweets = getUserRecentTweets.GetValue<string>(),\n",
                "    retrieveUserFeed = retrieveUserFeed.GetValue<string>()\n",
                "}"
            ]
        },
        {
            "cell_type": "code",
            "execution_count": 16,
            "metadata": {
                "dotnet_interactive": {
                    "language": "csharp"
                },
                "polyglot_notebook": {
                    "kernelName": "csharp"
                }
            },
            "outputs": [
                {
                    "data": {
                        "text/html": [
                            "<details open=\"open\" class=\"dni-treeview\"><summary><span class=\"dni-code-hint\"><code>{ findRecentTweets = I&#39;m sorry, but there are no recent tweets that contain the phrase &quot;Hello, Twitter!&quot;, searchRecentMentions = There have been no recent tweets mentioning &#39;FirstTweet&#39; in the last few days.\\n, queryRecentTweets = I&#39;m sorry, but I couldn&#39;t find any recent tweets about &#39;Coffee lover&#39;...</code></span></summary><div><table><thead><tr></tr></thead><tbody><tr><td>findRecentTweets</td><td><div class=\"dni-plaintext\"><pre>I&#39;m sorry, but there are no recent tweets that contain the phrase &quot;Hello, Twitter!&quot;</pre></div></td></tr><tr><td>searchRecentMentions</td><td><div class=\"dni-plaintext\"><pre>There have been no recent tweets mentioning &#39;FirstTweet&#39; in the last few days.\n",
                            "</pre></div></td></tr><tr><td>queryRecentTweets</td><td><div class=\"dni-plaintext\"><pre>I&#39;m sorry, but I couldn&#39;t find any recent tweets about &#39;Coffee lover&#39;.</pre></div></td></tr></tbody></table></div></details><style>\r\n",
                            ".dni-code-hint {\r\n",
                            "    font-style: italic;\r\n",
                            "    overflow: hidden;\r\n",
                            "    white-space: nowrap;\r\n",
                            "}\r\n",
                            ".dni-treeview {\r\n",
                            "    white-space: nowrap;\r\n",
                            "}\r\n",
                            ".dni-treeview td {\r\n",
                            "    vertical-align: top;\r\n",
                            "    text-align: start;\r\n",
                            "}\r\n",
                            "details.dni-treeview {\r\n",
                            "    padding-left: 1em;\r\n",
                            "}\r\n",
                            "table td {\r\n",
                            "    text-align: start;\r\n",
                            "}\r\n",
                            "table tr { \r\n",
                            "    vertical-align: top; \r\n",
                            "    margin: 0em 0px;\r\n",
                            "}\r\n",
                            "table tr td pre \r\n",
                            "{ \r\n",
                            "    vertical-align: top !important; \r\n",
                            "    margin: 0em 0px !important;\r\n",
                            "} \r\n",
                            "table th {\r\n",
                            "    text-align: start;\r\n",
                            "}\r\n",
                            "</style>"
                        ]
                    },
                    "metadata": {},
                    "output_type": "display_data"
                }
            ],
            "source": [
                "// SearchRecentTweets\n",
                "var findRecentTweets = await kernel.InvokePromptAsync(\"Find recent tweets containing the phrase 'Hello, Twitter!'\", new (executionSettings));\n",
                "var searchRecentMentions = await kernel.InvokePromptAsync(\"Search for tweets that mention 'FirstTweet' in the last few days\", new (executionSettings));\n",
                "var queryRecentTweets = await kernel.InvokePromptAsync(\"What are people saying on Twitter about 'Coffee lover' recently?\", new (executionSettings));\n",
                "\n",
                "new {\n",
                "    findRecentTweets = findRecentTweets.GetValue<string>(),\n",
                "    searchRecentMentions = searchRecentMentions.GetValue<string>(),\n",
                "    queryRecentTweets = queryRecentTweets.GetValue<string>()\n",
                "}"
            ]
        },
        {
            "cell_type": "code",
            "execution_count": 17,
            "metadata": {
                "dotnet_interactive": {
                    "language": "csharp"
                },
                "polyglot_notebook": {
                    "kernelName": "csharp"
                }
            },
            "outputs": [
                {
                    "data": {
                        "text/html": [
                            "<details open=\"open\" class=\"dni-treeview\"><summary><span class=\"dni-code-hint\"><code>{ likeTweetForUser = The tweet with ID 9876543210 has been liked by user 1 successfully., favoriteTweet = The user 1 has successfully favorited the tweet 9876543210., addLikeToTweet = The like has been successfully added to the tweet with the ID of 9876543210 from the account with ID of 1. }</code></span></summary><div><table><thead><tr></tr></thead><tbody><tr><td>likeTweetForUser</td><td><div class=\"dni-plaintext\"><pre>The tweet with ID 9876543210 has been liked by user 1 successfully.</pre></div></td></tr><tr><td>favoriteTweet</td><td><div class=\"dni-plaintext\"><pre>The user 1 has successfully favorited the tweet 9876543210.</pre></div></td></tr><tr><td>addLikeToTweet</td><td><div class=\"dni-plaintext\"><pre>The like has been successfully added to the tweet with the ID of 9876543210 from the account with ID of 1.</pre></div></td></tr></tbody></table></div></details><style>\r\n",
                            ".dni-code-hint {\r\n",
                            "    font-style: italic;\r\n",
                            "    overflow: hidden;\r\n",
                            "    white-space: nowrap;\r\n",
                            "}\r\n",
                            ".dni-treeview {\r\n",
                            "    white-space: nowrap;\r\n",
                            "}\r\n",
                            ".dni-treeview td {\r\n",
                            "    vertical-align: top;\r\n",
                            "    text-align: start;\r\n",
                            "}\r\n",
                            "details.dni-treeview {\r\n",
                            "    padding-left: 1em;\r\n",
                            "}\r\n",
                            "table td {\r\n",
                            "    text-align: start;\r\n",
                            "}\r\n",
                            "table tr { \r\n",
                            "    vertical-align: top; \r\n",
                            "    margin: 0em 0px;\r\n",
                            "}\r\n",
                            "table tr td pre \r\n",
                            "{ \r\n",
                            "    vertical-align: top !important; \r\n",
                            "    margin: 0em 0px !important;\r\n",
                            "} \r\n",
                            "table th {\r\n",
                            "    text-align: start;\r\n",
                            "}\r\n",
                            "</style>"
                        ]
                    },
                    "metadata": {},
                    "output_type": "display_data"
                }
            ],
            "source": [
                "// LikeTweet\n",
                "var likeTweetForUser = await kernel.InvokePromptAsync(\"Like the tweet with ID 9876543210 for user 1\", new (executionSettings));\n",
                "var favoriteTweet = await kernel.InvokePromptAsync(\"Have user 1 favorite the tweet 9876543210\", new (executionSettings));\n",
                "var addLikeToTweet = await kernel.InvokePromptAsync(\"Add a like to tweet 9876543210 from the account 1\", new (executionSettings));\n",
                "\n",
                "new {\n",
                "    likeTweetForUser = likeTweetForUser.GetValue<string>(),\n",
                "    favoriteTweet = favoriteTweet.GetValue<string>(),\n",
                "    addLikeToTweet = addLikeToTweet.GetValue<string>()\n",
                "}"
            ]
        },
        {
            "cell_type": "code",
            "execution_count": 18,
            "metadata": {
                "dotnet_interactive": {
                    "language": "csharp"
                },
                "polyglot_notebook": {
                    "kernelName": "csharp"
                }
            },
            "outputs": [
                {
                    "data": {
                        "text/html": [
                            "<details open=\"open\" class=\"dni-treeview\"><summary><span class=\"dni-code-hint\"><code>{ removeLikeFromTweet = The like from tweet 9876543210 has been successfully removed for user 1., unlikeTweetForUser = User 1 has successfully unliked the tweet 9876543210., takeBackLike = The like on the tweet has been successfully removed. }</code></span></summary><div><table><thead><tr></tr></thead><tbody><tr><td>removeLikeFromTweet</td><td><div class=\"dni-plaintext\"><pre>The like from tweet 9876543210 has been successfully removed for user 1.</pre></div></td></tr><tr><td>unlikeTweetForUser</td><td><div class=\"dni-plaintext\"><pre>User 1 has successfully unliked the tweet 9876543210.</pre></div></td></tr><tr><td>takeBackLike</td><td><div class=\"dni-plaintext\"><pre>The like on the tweet has been successfully removed.</pre></div></td></tr></tbody></table></div></details><style>\r\n",
                            ".dni-code-hint {\r\n",
                            "    font-style: italic;\r\n",
                            "    overflow: hidden;\r\n",
                            "    white-space: nowrap;\r\n",
                            "}\r\n",
                            ".dni-treeview {\r\n",
                            "    white-space: nowrap;\r\n",
                            "}\r\n",
                            ".dni-treeview td {\r\n",
                            "    vertical-align: top;\r\n",
                            "    text-align: start;\r\n",
                            "}\r\n",
                            "details.dni-treeview {\r\n",
                            "    padding-left: 1em;\r\n",
                            "}\r\n",
                            "table td {\r\n",
                            "    text-align: start;\r\n",
                            "}\r\n",
                            "table tr { \r\n",
                            "    vertical-align: top; \r\n",
                            "    margin: 0em 0px;\r\n",
                            "}\r\n",
                            "table tr td pre \r\n",
                            "{ \r\n",
                            "    vertical-align: top !important; \r\n",
                            "    margin: 0em 0px !important;\r\n",
                            "} \r\n",
                            "table th {\r\n",
                            "    text-align: start;\r\n",
                            "}\r\n",
                            "</style>"
                        ]
                    },
                    "metadata": {},
                    "output_type": "display_data"
                }
            ],
            "source": [
                "// UnlikeTweet\n",
                "var removeLikeFromTweet = await kernel.InvokePromptAsync(\"Remove the like from tweet 9876543210 for user 1\", new (executionSettings));\n",
                "var unlikeTweetForUser = await kernel.InvokePromptAsync(\"Have user 1 unlike the tweet 9876543210\", new (executionSettings));\n",
                "var takeBackLike = await kernel.InvokePromptAsync(\"Take back the like on tweet 9876543210 from account 1\", new (executionSettings));\n",
                "\n",
                "new {\n",
                "    removeLikeFromTweet = removeLikeFromTweet.GetValue<string>(),\n",
                "    unlikeTweetForUser = unlikeTweetForUser.GetValue<string>(),\n",
                "    takeBackLike = takeBackLike.GetValue<string>()\n",
                "}"
            ]
        },
        {
            "cell_type": "code",
            "execution_count": 19,
            "metadata": {
                "dotnet_interactive": {
                    "language": "csharp"
                },
                "polyglot_notebook": {
                    "kernelName": "csharp"
                }
            },
            "outputs": [
                {
                    "data": {
                        "text/html": [
                            "<details open=\"open\" class=\"dni-treeview\"><summary><span class=\"dni-code-hint\"><code>{ retweetPost = The retweet action has been successfully completed. The tweet with id 9876543210 has been retweeted from user 1&#39;s account., shareTweetOnTimeline = The tweet has been successfully retweeted by user 1 and it&#39;s now showing on their timeline., repostTweet = The user with ID 1 has success...</code></span></summary><div><table><thead><tr></tr></thead><tbody><tr><td>retweetPost</td><td><div class=\"dni-plaintext\"><pre>The retweet action has been successfully completed. The tweet with id 9876543210 has been retweeted from user 1&#39;s account.</pre></div></td></tr><tr><td>shareTweetOnTimeline</td><td><div class=\"dni-plaintext\"><pre>The tweet has been successfully retweeted by user 1 and it&#39;s now showing on their timeline.</pre></div></td></tr><tr><td>repostTweet</td><td><div class=\"dni-plaintext\"><pre>The user with ID 1 has successfully reposted the tweet with ID 9876543210.</pre></div></td></tr></tbody></table></div></details><style>\r\n",
                            ".dni-code-hint {\r\n",
                            "    font-style: italic;\r\n",
                            "    overflow: hidden;\r\n",
                            "    white-space: nowrap;\r\n",
                            "}\r\n",
                            ".dni-treeview {\r\n",
                            "    white-space: nowrap;\r\n",
                            "}\r\n",
                            ".dni-treeview td {\r\n",
                            "    vertical-align: top;\r\n",
                            "    text-align: start;\r\n",
                            "}\r\n",
                            "details.dni-treeview {\r\n",
                            "    padding-left: 1em;\r\n",
                            "}\r\n",
                            "table td {\r\n",
                            "    text-align: start;\r\n",
                            "}\r\n",
                            "table tr { \r\n",
                            "    vertical-align: top; \r\n",
                            "    margin: 0em 0px;\r\n",
                            "}\r\n",
                            "table tr td pre \r\n",
                            "{ \r\n",
                            "    vertical-align: top !important; \r\n",
                            "    margin: 0em 0px !important;\r\n",
                            "} \r\n",
                            "table th {\r\n",
                            "    text-align: start;\r\n",
                            "}\r\n",
                            "</style>"
                        ]
                    },
                    "metadata": {},
                    "output_type": "display_data"
                }
            ],
            "source": [
                "// Retweet\n",
                "var retweetPost = await kernel.InvokePromptAsync(\"Retweet the post 9876543210 from user 1's account\", new (executionSettings));\n",
                "var shareTweetOnTimeline = await kernel.InvokePromptAsync(\"Share tweet 9876543210 on user 1's timeline\", new (executionSettings));\n",
                "var repostTweet = await kernel.InvokePromptAsync(\"Have user 1 repost the tweet with ID 9876543210\", new (executionSettings));\n",
                "\n",
                "new {\n",
                "    retweetPost = retweetPost.GetValue<string>(),\n",
                "    shareTweetOnTimeline = shareTweetOnTimeline.GetValue<string>(),\n",
                "    repostTweet = repostTweet.GetValue<string>()\n",
                "}"
            ]
        },
        {
            "cell_type": "code",
            "execution_count": 20,
            "metadata": {
                "dotnet_interactive": {
                    "language": "csharp"
                },
                "polyglot_notebook": {
                    "kernelName": "csharp"
                }
            },
            "outputs": [
                {
                    "data": {
                        "text/html": [
                            "<details open=\"open\" class=\"dni-treeview\"><summary><span class=\"dni-code-hint\"><code>{ undoRetweet = The retweet of tweet 9876543210 from user 1&#39;s account has been successfully undone., removeRepostedTweet = The tweet with ID 9876543210 is not found in user 1&#39;s retweets list. Therefore, it cannot be removed. If you have retweeted the tweet and it&#39;s not showing up, you may have encou...</code></span></summary><div><table><thead><tr></tr></thead><tbody><tr><td>undoRetweet</td><td><div class=\"dni-plaintext\"><pre>The retweet of tweet 9876543210 from user 1&#39;s account has been successfully undone.</pre></div></td></tr><tr><td>removeRepostedTweet</td><td><div class=\"dni-plaintext\"><pre>The tweet with ID 9876543210 is not found in user 1&#39;s retweets list. Therefore, it cannot be removed. If you have retweeted the tweet and it&#39;s not showing up, you may have encountered a bug. Please report this so it can be fixed.</pre></div></td></tr><tr><td>takeBackRetweet</td><td><div class=\"dni-plaintext\"><pre>The retweet of the tweet with ID 9876543210 has been successfully undone for the user with ID 1.</pre></div></td></tr></tbody></table></div></details><style>\r\n",
                            ".dni-code-hint {\r\n",
                            "    font-style: italic;\r\n",
                            "    overflow: hidden;\r\n",
                            "    white-space: nowrap;\r\n",
                            "}\r\n",
                            ".dni-treeview {\r\n",
                            "    white-space: nowrap;\r\n",
                            "}\r\n",
                            ".dni-treeview td {\r\n",
                            "    vertical-align: top;\r\n",
                            "    text-align: start;\r\n",
                            "}\r\n",
                            "details.dni-treeview {\r\n",
                            "    padding-left: 1em;\r\n",
                            "}\r\n",
                            "table td {\r\n",
                            "    text-align: start;\r\n",
                            "}\r\n",
                            "table tr { \r\n",
                            "    vertical-align: top; \r\n",
                            "    margin: 0em 0px;\r\n",
                            "}\r\n",
                            "table tr td pre \r\n",
                            "{ \r\n",
                            "    vertical-align: top !important; \r\n",
                            "    margin: 0em 0px !important;\r\n",
                            "} \r\n",
                            "table th {\r\n",
                            "    text-align: start;\r\n",
                            "}\r\n",
                            "</style>"
                        ]
                    },
                    "metadata": {},
                    "output_type": "display_data"
                }
            ],
            "source": [
                "// UndoRetweet\n",
                "var undoRetweet = await kernel.InvokePromptAsync(\"Undo the retweet of 9876543210 from user 1's account\", new (executionSettings));\n",
                "var removeRepostedTweet = await kernel.InvokePromptAsync(\"Remove the reposted tweet 9876543210 from 1's timeline\", new (executionSettings));\n",
                "var takeBackRetweet = await kernel.InvokePromptAsync(\"Take back the retweet of 9876543210 for user 1\", new (executionSettings));\n",
                "\n",
                "new {\n",
                "    undoRetweet = undoRetweet.GetValue<string>(),\n",
                "    removeRepostedTweet = removeRepostedTweet.GetValue<string>(),\n",
                "    takeBackRetweet = takeBackRetweet.GetValue<string>()\n",
                "}"
            ]
        }
    ],
    "metadata": {
        "kernelspec": {
            "display_name": ".NET (C#)",
            "language": "C#",
            "name": ".net-csharp"
        },
        "polyglot_notebook": {
            "kernelInfo": {
                "defaultKernelName": "csharp",
                "items": [
                    {
                        "aliases": [],
                        "name": "csharp"
                    }
                ]
            }
        }
    },
    "nbformat": 4,
    "nbformat_minor": 2
}
